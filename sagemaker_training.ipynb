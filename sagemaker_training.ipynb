{
 "cells": [
  {
   "cell_type": "code",
   "execution_count": 1,
   "id": "abb4e554-4fdd-47d4-8805-1b39ff549921",
   "metadata": {},
   "outputs": [
    {
     "name": "stdout",
     "output_type": "stream",
     "text": [
      "sagemaker.config INFO - Not applying SDK defaults from location: /etc/xdg/sagemaker/config.yaml\n",
      "sagemaker.config INFO - Not applying SDK defaults from location: /home/sagemaker-user/.config/sagemaker/config.yaml\n",
      "ap-south-1\n",
      "sagemaker.config INFO - Not applying SDK defaults from location: /etc/xdg/sagemaker/config.yaml\n",
      "sagemaker.config INFO - Not applying SDK defaults from location: /home/sagemaker-user/.config/sagemaker/config.yaml\n",
      "sagemaker.config INFO - Not applying SDK defaults from location: /etc/xdg/sagemaker/config.yaml\n",
      "sagemaker.config INFO - Not applying SDK defaults from location: /home/sagemaker-user/.config/sagemaker/config.yaml\n",
      "arn:aws:iam::740617167239:role/service-role/AmazonSageMaker-ExecutionRole-20240115T163460\n"
     ]
    }
   ],
   "source": [
    "\n",
    "# Setup clients\n",
    "import boto3\n",
    "client = boto3.client(service_name=\"sagemaker\")\n",
    "runtime = boto3.client(service_name=\"sagemaker-runtime\")\n",
    "\n",
    "import sagemaker\n",
    "from sagemaker.estimator import Estimator\n",
    "\n",
    "boto_session = boto3.session.Session()\n",
    "region = boto_session.region_name\n",
    "print(region)\n",
    "\n",
    "sagemaker_session = sagemaker.Session()\n",
    "base_job_prefix = \"xgboost-example\"\n",
    "role = sagemaker.get_execution_role()\n",
    "print(role)\n",
    "\n",
    "default_bucket = sagemaker_session.default_bucket()\n",
    "s3_prefix = base_job_prefix\n",
    "\n",
    "training_instance_type = \"ml.m5.xlarge\" "
   ]
  },
  {
   "cell_type": "code",
   "execution_count": 2,
   "id": "087256ee-463d-424e-9117-7b80e1c984d8",
   "metadata": {},
   "outputs": [
    {
     "name": "stdout",
     "output_type": "stream",
     "text": [
      "  % Total    % Received % Xferd  Average Speed   Time    Time     Time  Current\n",
      "                                 Dload  Upload   Total   Spent    Left  Speed\n",
      "100  131k  100  131k    0     0  98977      0  0:00:01  0:00:01 --:--:-- 99056\n",
      "upload: ./abalone_dataset1_train.csv to s3://sagemaker-ap-south-1-740617167239/xgboost-regression/train.csv\n"
     ]
    }
   ],
   "source": [
    "# retrieve data\n",
    "! curl https://sagemaker-sample-files.s3.amazonaws.com/datasets/tabular/uci_abalone/train_csv/abalone_dataset1_train.csv > abalone_dataset1_train.csv\n",
    "  \n",
    " # upload data to S3\n",
    "!aws s3 cp abalone_dataset1_train.csv s3://{default_bucket}/xgboost-regression/train.csv"
   ]
  },
  {
   "cell_type": "code",
   "execution_count": 3,
   "id": "51c343b2-75bd-49e5-8d1f-fe329539d970",
   "metadata": {},
   "outputs": [],
   "source": [
    "from sagemaker.inputs import TrainingInput\n",
    "\n",
    "training_path = f\"s3://{default_bucket}/xgboost-regression/train.csv\"\n",
    "train_input = TrainingInput(training_path, content_type=\"text/csv\")\n",
    "\n",
    "model_path = f\"s3://{default_bucket}/{s3_prefix}/xgb_model\"\n",
    "\n",
    "# retrieve xgboost image\n",
    "image_uri = sagemaker.image_uris.retrieve(\n",
    "    framework=\"xgboost\",\n",
    "    region=region,\n",
    "    version=\"1.0-1\",\n",
    "    py_version=\"py3\",\n",
    "    instance_type=training_instance_type,\n",
    ")\n",
    "\n",
    "# Configure Training Estimator\n",
    "xgb_train = Estimator(\n",
    "    image_uri=image_uri,\n",
    "    instance_type=training_instance_type,\n",
    "    instance_count=1,\n",
    "    output_path=model_path,\n",
    "    sagemaker_session=sagemaker_session,\n",
    "    role=role,\n",
    ")\n",
    "\n",
    "# Set Hyperparameters\n",
    "xgb_train.set_hyperparameters(\n",
    "    objective=\"reg:linear\",\n",
    "    num_round=50,\n",
    "    max_depth=5,\n",
    "    eta=0.2,\n",
    "    gamma=4,\n",
    "    min_child_weight=6,\n",
    "    subsample=0.7,\n",
    "    silent=0,\n",
    ")\n"
   ]
  },
  {
   "cell_type": "code",
   "execution_count": 15,
   "id": "eb037814-b17b-4ee1-b8e8-1f0bc4a4ed27",
   "metadata": {},
   "outputs": [
    {
     "name": "stderr",
     "output_type": "stream",
     "text": [
      "INFO:sagemaker:Creating training-job with name: sagemaker-xgboost-2024-01-30-10-05-36-978\n"
     ]
    },
    {
     "name": "stdout",
     "output_type": "stream",
     "text": [
      "2024-01-30 10:05:37 Starting - Starting the training job...\n",
      "2024-01-30 10:05:51 Starting - Preparing the instances for training......\n",
      "2024-01-30 10:06:44 Downloading - Downloading input data...\n",
      "2024-01-30 10:07:13 Downloading - Downloading the training image..\u001b[34m[2024-01-30 10:07:46.971 ip-10-0-158-81.ap-south-1.compute.internal:7 INFO utils.py:27] RULE_JOB_STOP_SIGNAL_FILENAME: None\u001b[0m\n",
      "\u001b[34mINFO:sagemaker-containers:Imported framework sagemaker_xgboost_container.training\u001b[0m\n",
      "\u001b[34mINFO:sagemaker-containers:Failed to parse hyperparameter objective value reg:linear to Json.\u001b[0m\n",
      "\u001b[34mReturning the value itself\u001b[0m\n",
      "\u001b[34mINFO:sagemaker-containers:No GPUs detected (normal if no gpus installed)\u001b[0m\n",
      "\u001b[34mINFO:sagemaker_xgboost_container.training:Running XGBoost Sagemaker in algorithm mode\u001b[0m\n",
      "\u001b[34mINFO:root:Determined delimiter of CSV input is ','\u001b[0m\n",
      "\u001b[34mINFO:root:Determined delimiter of CSV input is ','\u001b[0m\n",
      "\u001b[34mINFO:root:Single node training.\u001b[0m\n",
      "\u001b[34m[10:07:47] 2923x8 matrix with 23384 entries loaded from /opt/ml/input/data/train?format=csv&label_column=0&delimiter=,\u001b[0m\n",
      "\u001b[34m[2024-01-30 10:07:47.043 ip-10-0-158-81.ap-south-1.compute.internal:7 INFO json_config.py:91] Creating hook from json_config at /opt/ml/input/config/debughookconfig.json.\u001b[0m\n",
      "\u001b[34m[2024-01-30 10:07:47.044 ip-10-0-158-81.ap-south-1.compute.internal:7 INFO hook.py:201] tensorboard_dir has not been set for the hook. SMDebug will not be exporting tensorboard summaries.\u001b[0m\n",
      "\u001b[34m[2024-01-30 10:07:47.044 ip-10-0-158-81.ap-south-1.compute.internal:7 INFO profiler_config_parser.py:102] User has disabled profiler.\u001b[0m\n",
      "\u001b[34m[2024-01-30 10:07:47.045 ip-10-0-158-81.ap-south-1.compute.internal:7 INFO hook.py:255] Saving to /opt/ml/output/tensors\u001b[0m\n",
      "\u001b[34m[2024-01-30 10:07:47.045 ip-10-0-158-81.ap-south-1.compute.internal:7 INFO state_store.py:77] The checkpoint config file /opt/ml/input/config/checkpointconfig.json does not exist.\u001b[0m\n",
      "\u001b[34mINFO:root:Debug hook created from config\u001b[0m\n",
      "\u001b[34mINFO:root:Train matrix has 2923 rows\u001b[0m\n",
      "\u001b[34m[10:07:47] WARNING: /workspace/src/objective/regression_obj.cu:167: reg:linear is now deprecated in favor of reg:squarederror.\u001b[0m\n",
      "\u001b[34m[10:07:47] WARNING: /workspace/src/learner.cc:328: \u001b[0m\n",
      "\u001b[34mParameters: { num_round, silent } might not be used.\n",
      "  This may not be accurate due to some parameters are only used in language bindings but\n",
      "  passed down to XGBoost core.  Or some parameters are not used but slip through this\n",
      "  verification. Please open an issue if you find above cases.\u001b[0m\n",
      "\u001b[34m[0]#011train-rmse:8.09123\u001b[0m\n",
      "\u001b[34m[2024-01-30 10:07:47.050 ip-10-0-158-81.ap-south-1.compute.internal:7 INFO hook.py:423] Monitoring the collections: metrics\u001b[0m\n",
      "\u001b[34m[2024-01-30 10:07:47.052 ip-10-0-158-81.ap-south-1.compute.internal:7 INFO hook.py:486] Hook is writing from the hook with pid: 7\u001b[0m\n",
      "\u001b[34m[1]#011train-rmse:6.61298\u001b[0m\n",
      "\u001b[34m[2]#011train-rmse:5.45157\u001b[0m\n",
      "\u001b[34m[3]#011train-rmse:4.54038\u001b[0m\n",
      "\u001b[34m[4]#011train-rmse:3.84707\u001b[0m\n",
      "\u001b[34m[5]#011train-rmse:3.31465\u001b[0m\n",
      "\u001b[34m[6]#011train-rmse:2.91636\u001b[0m\n",
      "\u001b[34m[7]#011train-rmse:2.62415\u001b[0m\n",
      "\u001b[34m[8]#011train-rmse:2.40885\u001b[0m\n",
      "\u001b[34m[9]#011train-rmse:2.24929\u001b[0m\n",
      "\u001b[34m[10]#011train-rmse:2.13106\u001b[0m\n",
      "\u001b[34m[11]#011train-rmse:2.04974\u001b[0m\n",
      "\u001b[34m[12]#011train-rmse:1.98240\u001b[0m\n",
      "\u001b[34m[13]#011train-rmse:1.93888\u001b[0m\n",
      "\u001b[34m[14]#011train-rmse:1.89701\u001b[0m\n",
      "\u001b[34m[15]#011train-rmse:1.87329\u001b[0m\n",
      "\u001b[34m[16]#011train-rmse:1.85216\u001b[0m\n",
      "\u001b[34m[17]#011train-rmse:1.82408\u001b[0m\n",
      "\u001b[34m[18]#011train-rmse:1.81372\u001b[0m\n",
      "\u001b[34m[19]#011train-rmse:1.80362\u001b[0m\n",
      "\u001b[34m[20]#011train-rmse:1.78164\u001b[0m\n",
      "\u001b[34m[21]#011train-rmse:1.77341\u001b[0m\n",
      "\u001b[34m[22]#011train-rmse:1.76766\u001b[0m\n",
      "\u001b[34m[23]#011train-rmse:1.75940\u001b[0m\n",
      "\u001b[34m[24]#011train-rmse:1.74632\u001b[0m\n",
      "\u001b[34m[25]#011train-rmse:1.74385\u001b[0m\n",
      "\u001b[34m[26]#011train-rmse:1.73876\u001b[0m\n",
      "\u001b[34m[27]#011train-rmse:1.73410\u001b[0m\n",
      "\u001b[34m[28]#011train-rmse:1.72847\u001b[0m\n",
      "\u001b[34m[29]#011train-rmse:1.72384\u001b[0m\n",
      "\u001b[34m[30]#011train-rmse:1.71492\u001b[0m\n",
      "\u001b[34m[31]#011train-rmse:1.69789\u001b[0m\n",
      "\u001b[34m[32]#011train-rmse:1.69073\u001b[0m\n",
      "\u001b[34m[33]#011train-rmse:1.68621\u001b[0m\n",
      "\u001b[34m[34]#011train-rmse:1.67960\u001b[0m\n",
      "\u001b[34m[35]#011train-rmse:1.67194\u001b[0m\n",
      "\u001b[34m[36]#011train-rmse:1.65883\u001b[0m\n",
      "\u001b[34m[37]#011train-rmse:1.65463\u001b[0m\n",
      "\u001b[34m[38]#011train-rmse:1.65199\u001b[0m\n",
      "\u001b[34m[39]#011train-rmse:1.63903\u001b[0m\n",
      "\u001b[34m[40]#011train-rmse:1.63353\u001b[0m\n",
      "\u001b[34m[41]#011train-rmse:1.62607\u001b[0m\n",
      "\u001b[34m[42]#011train-rmse:1.61662\u001b[0m\n",
      "\u001b[34m[43]#011train-rmse:1.60241\u001b[0m\n",
      "\u001b[34m[44]#011train-rmse:1.59173\u001b[0m\n",
      "\u001b[34m[45]#011train-rmse:1.58875\u001b[0m\n",
      "\u001b[34m[46]#011train-rmse:1.57816\u001b[0m\n",
      "\u001b[34m[47]#011train-rmse:1.56941\u001b[0m\n",
      "\u001b[34m[48]#011train-rmse:1.56063\u001b[0m\n",
      "\u001b[34m[49]#011train-rmse:1.55822\u001b[0m\n",
      "\n",
      "2024-01-30 10:08:05 Training - Training image download completed. Training in progress.\n",
      "2024-01-30 10:08:05 Uploading - Uploading generated training model\n",
      "2024-01-30 10:08:05 Completed - Training job completed\n",
      "Training seconds: 82\n",
      "Billable seconds: 82\n"
     ]
    },
    {
     "data": {
      "text/plain": [
       "'s3://sagemaker-ap-south-1-740617167239/xgboost-example/xgb_model/sagemaker-xgboost-2024-01-30-10-05-36-978/output/model.tar.gz'"
      ]
     },
     "execution_count": 15,
     "metadata": {},
     "output_type": "execute_result"
    }
   ],
   "source": [
    "# Fit model\n",
    "xgb_train.fit({\"train\": train_input})\n",
    "\n",
    "# Retrieve model data from training job\n",
    "model_artifacts = xgb_train.model_data\n",
    "model_artifacts"
   ]
  },
  {
   "cell_type": "code",
   "execution_count": 5,
   "id": "0df3170d-baf7-40d2-99b4-258b68c6a932",
   "metadata": {},
   "outputs": [
    {
     "name": "stdout",
     "output_type": "stream",
     "text": [
      "ModelPackageGroup Arn : arn:aws:sagemaker:ap-south-1:740617167239:model-package-group/xgboost-abalone-realtime\n"
     ]
    }
   ],
   "source": [
    "import time\n",
    "model_package_group_name = \"xgboost-abalone-realtime\"\n",
    "model_package_group_input_dict = {\n",
    " \"ModelPackageGroupName\" : model_package_group_name,\n",
    " \"ModelPackageGroupDescription\" : \"Model package group for xgboost regression model with Abalone dataset\"\n",
    "}\n",
    "\n",
    "create_model_pacakge_group_response = client.create_model_package_group(**model_package_group_input_dict)\n",
    "print('ModelPackageGroup Arn : {}'.format(create_model_pacakge_group_response['ModelPackageGroupArn']))\n"
   ]
  },
  {
   "cell_type": "markdown",
   "id": "92335592-62a7-4a95-9304-9a051dc3bd7b",
   "metadata": {},
   "source": [
    "## TO Create Model Versions"
   ]
  },
  {
   "cell_type": "code",
   "execution_count": 17,
   "id": "79d9e9ce-4cdd-434a-a11e-c17d7b827bad",
   "metadata": {},
   "outputs": [
    {
     "name": "stdout",
     "output_type": "stream",
     "text": [
      "ModelPackage Version ARN : arn:aws:sagemaker:ap-south-1:740617167239:model-package/xgboost-abalone-realtime/3\n"
     ]
    }
   ],
   "source": [
    "\n",
    "\n",
    "\n",
    "model_package_group_arn = create_model_pacakge_group_response['ModelPackageGroupArn']\n",
    "modelpackage_inference_specification =  {\n",
    "    \"InferenceSpecification\": {\n",
    "        \"Containers\": [\n",
    "            {\n",
    "                \"Image\": image_uri,\n",
    "            }\n",
    "        ],\n",
    "        \"SupportedContentTypes\": [ \"text/csv\" ],\n",
    "        \"SupportedResponseMIMETypes\": [ \"text/csv\" ],\n",
    "    }\n",
    "}\n",
    " \n",
    "# Specify the model source\n",
    "model_url = model_artifacts\n",
    "\n",
    "# Specify the model data\n",
    "modelpackage_inference_specification[\"InferenceSpecification\"][\"Containers\"][0][\"ModelDataUrl\"]=model_url\n",
    "\n",
    "create_model_package_input_dict = {\n",
    "    \"ModelPackageGroupName\" : model_package_group_arn,\n",
    "    \"ModelPackageDescription\" : \"version 3\",\n",
    "    \"ModelApprovalStatus\" : \"PendingManualApproval\"\n",
    "}\n",
    "create_model_package_input_dict.update(modelpackage_inference_specification)\n",
    "\n",
    "# Create cross-account model package\n",
    "create_mode_package_response = client.create_model_package(**create_model_package_input_dict)\n",
    "model_package_arn = create_mode_package_response[\"ModelPackageArn\"]\n",
    "print('ModelPackage Version ARN : {}'.format(model_package_arn))"
   ]
  },
  {
   "cell_type": "code",
   "execution_count": 20,
   "id": "3eece521-b299-4598-9c3a-5890a23bb2f2",
   "metadata": {},
   "outputs": [
    {
     "data": {
      "text/plain": [
       "{'ModelPackageGroupName': 'xgboost-abalone-realtime',\n",
       " 'ModelPackageVersion': 3,\n",
       " 'ModelPackageArn': 'arn:aws:sagemaker:ap-south-1:740617167239:model-package/xgboost-abalone-realtime/3',\n",
       " 'ModelPackageDescription': 'version 3',\n",
       " 'CreationTime': datetime.datetime(2024, 1, 30, 10, 12, 16, 302000, tzinfo=tzlocal()),\n",
       " 'ModelPackageStatus': 'Completed',\n",
       " 'ModelApprovalStatus': 'PendingManualApproval'}"
      ]
     },
     "execution_count": 20,
     "metadata": {},
     "output_type": "execute_result"
    }
   ],
   "source": [
    "model_package_arn = client.list_model_packages(ModelPackageGroupName=model_package_group_name)['ModelPackageSummaryList']\n",
    "model_package_arn[0]['ModelPackageArn']"
   ]
  },
  {
   "cell_type": "code",
   "execution_count": 8,
   "id": "e59df20b-b111-488c-81dd-9189480bd91a",
   "metadata": {},
   "outputs": [
    {
     "data": {
      "text/plain": [
       "{'ModelPackageGroupName': 'xgboost-abalone-realtime',\n",
       " 'ModelPackageVersion': 1,\n",
       " 'ModelPackageArn': 'arn:aws:sagemaker:ap-south-1:740617167239:model-package/xgboost-abalone-realtime/1',\n",
       " 'ModelPackageDescription': 'Model for regression with the Abalone dataset',\n",
       " 'CreationTime': datetime.datetime(2024, 1, 29, 11, 40, 29, 16000, tzinfo=tzlocal()),\n",
       " 'InferenceSpecification': {'Containers': [{'Image': '720646828776.dkr.ecr.ap-south-1.amazonaws.com/sagemaker-xgboost:1.0-1-cpu-py3',\n",
       "    'ImageDigest': 'sha256:7f2851af46434a0e13153f9415c925b653088f15753ab4cd85682fdf426c3924',\n",
       "    'ModelDataUrl': 's3://sagemaker-ap-south-1-740617167239/xgboost-example/xgb_model/sagemaker-xgboost-2024-01-29-11-34-54-773/output/model.tar.gz'}],\n",
       "  'SupportedContentTypes': ['text/csv'],\n",
       "  'SupportedResponseMIMETypes': ['text/csv']},\n",
       " 'ModelPackageStatus': 'Completed',\n",
       " 'ModelPackageStatusDetails': {'ValidationStatuses': [],\n",
       "  'ImageScanStatuses': []},\n",
       " 'CertifyForMarketplace': False,\n",
       " 'ModelApprovalStatus': 'PendingManualApproval',\n",
       " 'CreatedBy': {'UserProfileArn': 'arn:aws:sagemaker:ap-south-1:740617167239:user-profile/d-psxxuiodvspn/default-1706527282491',\n",
       "  'UserProfileName': 'default-1706527282491',\n",
       "  'DomainId': 'd-psxxuiodvspn',\n",
       "  'IamIdentity': {'Arn': 'arn:aws:sts::740617167239:assumed-role/AmazonSageMaker-ExecutionRole-20240115T163460/SageMaker',\n",
       "   'PrincipalId': 'AROA2Y4BZEGDQDY7P4TFS:SageMaker'}},\n",
       " 'ResponseMetadata': {'RequestId': '804332c1-8aac-4357-a90b-e45484edadfb',\n",
       "  'HTTPStatusCode': 200,\n",
       "  'HTTPHeaders': {'x-amzn-requestid': '804332c1-8aac-4357-a90b-e45484edadfb',\n",
       "   'content-type': 'application/x-amz-json-1.1',\n",
       "   'content-length': '1276',\n",
       "   'date': 'Mon, 29 Jan 2024 11:42:12 GMT'},\n",
       "  'RetryAttempts': 0}}"
      ]
     },
     "execution_count": 8,
     "metadata": {},
     "output_type": "execute_result"
    }
   ],
   "source": [
    "\n",
    "client.describe_model_package(ModelPackageName=model_package_arn)"
   ]
  },
  {
   "cell_type": "code",
   "execution_count": 9,
   "id": "4dc3850d-0b74-4b69-8606-16c2a11b6e62",
   "metadata": {},
   "outputs": [
    {
     "name": "stdout",
     "output_type": "stream",
     "text": [
      "{'ModelPackageArn': 'arn:aws:sagemaker:ap-south-1:740617167239:model-package/xgboost-abalone-realtime/1', 'ResponseMetadata': {'RequestId': '3d48f63d-4324-4761-8c99-5d07a734a1e1', 'HTTPStatusCode': 200, 'HTTPHeaders': {'x-amzn-requestid': '3d48f63d-4324-4761-8c99-5d07a734a1e1', 'content-type': 'application/x-amz-json-1.1', 'content-length': '104', 'date': 'Mon, 29 Jan 2024 11:42:32 GMT'}, 'RetryAttempts': 0}}\n"
     ]
    }
   ],
   "source": [
    "model_package_update_input_dict = {\n",
    "    \"ModelPackageArn\" : model_package_arn,\n",
    "    \"ModelApprovalStatus\" : \"Approved\"\n",
    "}\n",
    "model_package_update_response = client.update_model_package(**model_package_update_input_dict)\n",
    "print(model_package_update_response)"
   ]
  },
  {
   "cell_type": "code",
   "execution_count": 10,
   "id": "e1fa08fc-4cf0-486f-9b82-5074e5dd8338",
   "metadata": {},
   "outputs": [
    {
     "name": "stdout",
     "output_type": "stream",
     "text": [
      "Model name : xgboost-regression-model2024-01-29-11-44-02\n",
      "Model arn : arn:aws:sagemaker:ap-south-1:740617167239:model/xgboost-regression-model2024-01-29-11-44-02\n"
     ]
    }
   ],
   "source": [
    "from time import gmtime, strftime\n",
    "model_name = 'xgboost-regression-model' + strftime(\"%Y-%m-%d-%H-%M-%S\", gmtime())\n",
    "print(\"Model name : {}\".format(model_name))\n",
    "container_list = [{'ModelPackageName': model_package_arn}]\n",
    "\n",
    "create_model_response = client.create_model(\n",
    "    ModelName = model_name,\n",
    "    ExecutionRoleArn = role,\n",
    "    Containers = container_list\n",
    ")\n",
    "print(\"Model arn : {}\".format(create_model_response[\"ModelArn\"]))"
   ]
  },
  {
   "cell_type": "code",
   "execution_count": 12,
   "id": "f01a4735-ed22-40ab-b989-6c4298cb98df",
   "metadata": {},
   "outputs": [
    {
     "name": "stdout",
     "output_type": "stream",
     "text": [
      "xgboost-regression-epc2024-01-29-11-45-03\n",
      "Endpoint Configuration Arn: arn:aws:sagemaker:ap-south-1:740617167239:endpoint-config/xgboost-regression-epc2024-01-29-11-45-03\n"
     ]
    }
   ],
   "source": [
    "endpoint_config_name = 'xgboost-regression-epc' + strftime(\"%Y-%m-%d-%H-%M-%S\", gmtime())\n",
    "instance_type = \"ml.c5.xlarge\"\n",
    "print(endpoint_config_name)\n",
    "create_endpoint_config_response = client.create_endpoint_config(\n",
    "    EndpointConfigName = endpoint_config_name,\n",
    "    ProductionVariants=[{\n",
    "        'InstanceType': instance_type,\n",
    "        'InitialInstanceCount': 1,\n",
    "        'InitialVariantWeight': 1,\n",
    "        'ModelName': model_name,\n",
    "        'VariantName': 'AllTraffic'}])\n",
    "print(\"Endpoint Configuration Arn: \" + create_endpoint_config_response[\"EndpointConfigArn\"])"
   ]
  },
  {
   "cell_type": "code",
   "execution_count": 13,
   "id": "366876a2-a2ba-45fb-adfe-b585b885105b",
   "metadata": {},
   "outputs": [
    {
     "name": "stdout",
     "output_type": "stream",
     "text": [
      "EndpointName=xgboost-realtime-ep2024-01-29-11-45-09\n",
      "arn:aws:sagemaker:ap-south-1:740617167239:endpoint/xgboost-realtime-ep2024-01-29-11-45-09\n",
      "Creating\n",
      "Creating\n",
      "Creating\n",
      "Creating\n",
      "Creating\n",
      "Creating\n",
      "Creating\n",
      "Creating\n",
      "Creating\n",
      "Creating\n",
      "InService\n"
     ]
    },
    {
     "data": {
      "text/plain": [
       "{'EndpointName': 'xgboost-realtime-ep2024-01-29-11-45-09',\n",
       " 'EndpointArn': 'arn:aws:sagemaker:ap-south-1:740617167239:endpoint/xgboost-realtime-ep2024-01-29-11-45-09',\n",
       " 'EndpointConfigName': 'xgboost-regression-epc2024-01-29-11-45-03',\n",
       " 'ProductionVariants': [{'VariantName': 'AllTraffic',\n",
       "   'DeployedImages': [{'SpecifiedImage': '720646828776.dkr.ecr.ap-south-1.amazonaws.com/sagemaker-xgboost@sha256:7f2851af46434a0e13153f9415c925b653088f15753ab4cd85682fdf426c3924',\n",
       "     'ResolvedImage': '720646828776.dkr.ecr.ap-south-1.amazonaws.com/sagemaker-xgboost@sha256:7f2851af46434a0e13153f9415c925b653088f15753ab4cd85682fdf426c3924',\n",
       "     'ResolutionTime': datetime.datetime(2024, 1, 29, 11, 45, 10, 64000, tzinfo=tzlocal())}],\n",
       "   'CurrentWeight': 1.0,\n",
       "   'DesiredWeight': 1.0,\n",
       "   'CurrentInstanceCount': 1,\n",
       "   'DesiredInstanceCount': 1}],\n",
       " 'EndpointStatus': 'InService',\n",
       " 'CreationTime': datetime.datetime(2024, 1, 29, 11, 45, 9, 697000, tzinfo=tzlocal()),\n",
       " 'LastModifiedTime': datetime.datetime(2024, 1, 29, 11, 47, 28, 98000, tzinfo=tzlocal()),\n",
       " 'ResponseMetadata': {'RequestId': '42698f3a-1f20-4153-9f21-a88f627e18ae',\n",
       "  'HTTPStatusCode': 200,\n",
       "  'HTTPHeaders': {'x-amzn-requestid': '42698f3a-1f20-4153-9f21-a88f627e18ae',\n",
       "   'content-type': 'application/x-amz-json-1.1',\n",
       "   'content-length': '831',\n",
       "   'date': 'Mon, 29 Jan 2024 11:47:40 GMT'},\n",
       "  'RetryAttempts': 0}}"
      ]
     },
     "execution_count": 13,
     "metadata": {},
     "output_type": "execute_result"
    }
   ],
   "source": [
    "endpoint_name = 'xgboost-realtime-ep' + strftime(\"%Y-%m-%d-%H-%M-%S\", gmtime())\n",
    "print(\"EndpointName={}\".format(endpoint_name))\n",
    "\n",
    "create_endpoint_response = client.create_endpoint(\n",
    "    EndpointName=endpoint_name,\n",
    "    EndpointConfigName=endpoint_config_name)\n",
    "print(create_endpoint_response['EndpointArn'])\n",
    "\n",
    "# wait for endpoint to reach a terminal state (InService) using describe endpoint\n",
    "import time\n",
    "\n",
    "describe_endpoint_response = client.describe_endpoint(EndpointName=endpoint_name)\n",
    "\n",
    "while describe_endpoint_response[\"EndpointStatus\"] == \"Creating\":\n",
    "    describe_endpoint_response = client.describe_endpoint(EndpointName=endpoint_name)\n",
    "    print(describe_endpoint_response[\"EndpointStatus\"])\n",
    "    time.sleep(15)\n",
    "\n",
    "describe_endpoint_response"
   ]
  },
  {
   "cell_type": "code",
   "execution_count": 14,
   "id": "54e7b511-26c0-41b9-9b65-4dfe3e8ccbfc",
   "metadata": {},
   "outputs": [
    {
     "name": "stdout",
     "output_type": "stream",
     "text": [
      "b'4.566554546356201'\n"
     ]
    }
   ],
   "source": [
    "\n",
    "response = runtime.invoke_endpoint(\n",
    "    EndpointName=endpoint_name,\n",
    "    Body=b\".345,0.224414,.131102,0.042329,.279923,-0.110329,-0.099358,0.0\",\n",
    "    ContentType=\"text/csv\",\n",
    ")\n",
    "\n",
    "print(response[\"Body\"].read())"
   ]
  },
  {
   "cell_type": "code",
   "execution_count": null,
   "id": "1dda5e20-09da-499e-a1e2-727bf6f39fb1",
   "metadata": {},
   "outputs": [],
   "source": []
  }
 ],
 "metadata": {
  "kernelspec": {
   "display_name": "Python 3 (ipykernel)",
   "language": "python",
   "name": "python3"
  },
  "language_info": {
   "codemirror_mode": {
    "name": "ipython",
    "version": 3
   },
   "file_extension": ".py",
   "mimetype": "text/x-python",
   "name": "python",
   "nbconvert_exporter": "python",
   "pygments_lexer": "ipython3",
   "version": "3.10.13"
  }
 },
 "nbformat": 4,
 "nbformat_minor": 5
}
